{
 "cells": [
  {
   "cell_type": "markdown",
   "id": "cab8ed33",
   "metadata": {},
   "source": [
    "# Análisis Exploratorio de los Datasets Procesados (MEPS 2022)\n",
    "Este notebook explora las variables principales de los archivos procesados en la carpeta `data/`. Se realiza un análisis estadístico y de distribución para variables demográficas, de salud, primas, pagos y empleo, considerando el tratamiento adecuado de datos faltantes o no aplicables."
   ]
  },
  {
   "cell_type": "code",
   "execution_count": 16,
   "id": "941b7a6b",
   "metadata": {},
   "outputs": [],
   "source": [
    "# Librerías necesarias\n",
    "import pandas as pd\n",
    "import numpy as np\n",
    "import matplotlib.pyplot as plt\n",
    "import seaborn as sns\n",
    "\n",
    "# Configuración de visualización\n",
    "sns.set(style='whitegrid')\n",
    "plt.rcParams['figure.figsize'] = (10, 6)"
   ]
  },
  {
   "cell_type": "code",
   "execution_count": 17,
   "id": "15d2437e",
   "metadata": {},
   "outputs": [
    {
     "name": "stderr",
     "output_type": "stream",
     "text": [
      "C:\\Users\\DJSix\\AppData\\Local\\Temp\\ipykernel_242220\\1779530984.py:3: DtypeWarning: Columns (5) have mixed types. Specify dtype option on import or set low_memory=False.\n",
      "  cond = pd.read_csv('../data/meps_cond_2022_processed.csv')\n"
     ]
    }
   ],
   "source": [
    "# Cargar los datasets procesados con rutas correctas\n",
    "fyc = pd.read_csv('../data/meps_fyc_2022_processed.csv')\n",
    "cond = pd.read_csv('../data/meps_cond_2022_processed.csv')\n",
    "jobs = pd.read_csv('../data/meps_jobs_2022_processed.csv')\n",
    "prpl = pd.read_csv('../data/meps_prpl_2022_processed.csv')"
   ]
  },
  {
   "cell_type": "markdown",
   "id": "1531b7e0",
   "metadata": {},
   "source": [
    "## Análisis General de Personas\n",
    "- Cantidad de personas individuales\n",
    "- Estadísticas de edad (mínima, máxima, Q1, Q3, media, mediana)\n",
    "- Cantidad de personas por raza, estado civil y región\n",
    "- Cantidad de personas en cada categoría de pobreza\n",
    "        "
   ]
  },
  {
   "cell_type": "code",
   "execution_count": 18,
   "id": "819562c8",
   "metadata": {},
   "outputs": [
    {
     "name": "stdout",
     "output_type": "stream",
     "text": [
      "Columnas disponibles en fyc: ['dwelling_unit_id', 'person_id', 'person_unique_id', 'panel_number', 'age_last_birthday', 'sex', 'race_ethnicity', 'marital_status_2022', 'region_2022', 'total_healthcare_exp_2022', 'total_out_of_pocket_exp_2022', 'poverty_category_2022', 'insurance_coverage_2022', 'perceived_health_status', 'person_weight_2022']\n",
      "Edad - min: 0.0 max: 85.0 Q1: 23.0 Q3: 64.0 media: 43.56306005082252 mediana: 45.0\n",
      "Cantidad por raza:\n",
      "race_ethnicity\n",
      "Non-Hispanic White only                  12211\n",
      "Hispanic                                  4883\n",
      "Non-Hispanic Black only                   3244\n",
      "Non-Hispanic Asian only                   1220\n",
      "Non-Hispanic Other race or multi-race      873\n",
      "Name: count, dtype: int64\n",
      "Cantidad por estado civil:\n",
      "marital_status_2022\n",
      "Married                      8602\n",
      "Never married                5495\n",
      "Under 16 - not applicable    3765\n",
      "Divorced                     2546\n",
      "Widowed                      1619\n",
      "Separated                     397\n",
      "-7                              6\n",
      "-8                              1\n",
      "Name: count, dtype: int64\n",
      "Cantidad por región:\n",
      "region_2022\n",
      "South           8602\n",
      "West            5693\n",
      "Midwest         4498\n",
      "Northeast       3443\n",
      "Inapplicable     195\n",
      "Name: count, dtype: int64\n",
      "Cantidad por categoría de pobreza:\n",
      "poverty_category_2022\n",
      "High income      8282\n",
      "Middle income    6269\n",
      "Poor/negative    3725\n",
      "Low income       3105\n",
      "Near poor        1050\n",
      "Name: count, dtype: int64\n",
      "Cantidad de personas individuales: 22431\n"
     ]
    }
   ],
   "source": [
    "# Detectar nombres de columnas relevantes de forma flexible (ignorando mayúsculas/minúsculas)\n",
    "print('Columnas disponibles en fyc:', list(fyc.columns))\n",
    "\n",
    "def buscar_columna(df, posibles):\n",
    "    cols = [c for c in df.columns for p in posibles if c.lower() == p.lower()]\n",
    "    return cols[0] if cols else None\n",
    "\n",
    "col_age = buscar_columna(fyc, ['age', 'edad'])\n",
    "col_race = buscar_columna(fyc, ['race', 'raza'])\n",
    "col_marital = buscar_columna(fyc, ['marital_status', 'estado_civil'])\n",
    "col_region = buscar_columna(fyc, ['region', 'región'])\n",
    "col_poverty = buscar_columna(fyc, ['poverty_category', 'categoria_pobreza'])\n",
    "\n",
    "# Análisis de personas en fyc\n",
    "personas = fyc.drop_duplicates(subset='person_unique_id')\n",
    "\n",
    "# Estadísticas de edad\n",
    "edad = pd.to_numeric(personas['age_last_birthday'], errors='coerce')\n",
    "print('Edad - min:', edad.min(), 'max:', edad.max(), 'Q1:', edad.quantile(0.25), 'Q3:', edad.quantile(0.75), 'media:', edad.mean(), 'mediana:', edad.median())\n",
    "\n",
    "# Cantidad por raza\n",
    "print('Cantidad por raza:')\n",
    "print(personas['race_ethnicity'].value_counts(dropna=False))\n",
    "\n",
    "# Cantidad por estado civil\n",
    "print('Cantidad por estado civil:')\n",
    "print(personas['marital_status_2022'].value_counts(dropna=False))\n",
    "\n",
    "# Cantidad por región\n",
    "print('Cantidad por región:')\n",
    "print(personas['region_2022'].value_counts(dropna=False))\n",
    "\n",
    "# Cantidad por categoría de pobreza\n",
    "print('Cantidad por categoría de pobreza:')\n",
    "print(personas['poverty_category_2022'].value_counts(dropna=False))\n",
    "\n",
    "print('Cantidad de personas individuales:', len(personas))"
   ]
  },
  {
   "cell_type": "markdown",
   "id": "a77a8655",
   "metadata": {},
   "source": [
    "## Análisis de Condiciones Médicas\n",
    "- Cantidad de condiciones médicas distintas\n",
    "- Media de condiciones por persona\n",
    "- Top 5 condiciones más comunes (general, mujeres, hombres)\n",
    "        "
   ]
  },
  {
   "cell_type": "code",
   "execution_count": null,
   "id": "770e5f94",
   "metadata": {},
   "outputs": [
    {
     "name": "stdout",
     "output_type": "stream",
     "text": [
      "Columnas disponibles en cond: ['person_unique_id', 'condition_id', 'panel_number', 'condition_round', 'age_at_diagnosis', 'injury_flag', 'icd10_code', 'ccsr_category_1']\n",
      "Columna de condición médica no encontrada.\n"
     ]
    }
   ],
   "source": [
    "# Análisis de condiciones médicas en cond\n",
    "print('Columnas disponibles en cond:', list(cond.columns))\n",
    "\n",
    "# Usar directamente la columna correcta para condiciones médicas\n",
    "col_condition = 'ccsr_category_1'\n",
    "\n",
    "condiciones_distintas = cond[col_condition].nunique()\n",
    "condiciones_por_persona = cond.groupby('person_unique_id')[col_condition].nunique()\n",
    "print('Cantidad de condiciones médicas distintas:', condiciones_distintas)\n",
    "print('Media de condiciones por persona:', condiciones_por_persona.mean())\n",
    "print('Top 5 condiciones más comunes (general):')\n",
    "print(cond[col_condition].value_counts().head(5))"
   ]
  },
  {
   "cell_type": "markdown",
   "id": "c1f5bad1",
   "metadata": {},
   "source": [
    "## Análisis de Primas y Pagos\n",
    "- Estadísticas de prima out of pocket y otras columnas de pagos\n",
    "        "
   ]
  },
  {
   "cell_type": "code",
   "execution_count": 20,
   "id": "8c674068",
   "metadata": {},
   "outputs": [
    {
     "name": "stdout",
     "output_type": "stream",
     "text": [
      "Estadísticas para out_of_pocket_premium_edited:\n",
      "min: 0.0 max: 4583.33 media: 306.679531166348 mediana: 212.5 Q1: 70.0 Q3: 433.33\n",
      "Cantidad de valores válidos: 13075\n"
     ]
    }
   ],
   "source": [
    "# Primas y pagos: columnas relevantes en prpl\n",
    "pagos = pd.to_numeric(prpl['out_of_pocket_premium_edited'], errors='coerce')\n",
    "print('Estadísticas para out_of_pocket_premium_edited:')\n",
    "print('min:', pagos.min(), 'max:', pagos.max(), 'media:', pagos.mean(), 'mediana:', pagos.median(), 'Q1:', pagos.quantile(0.25), 'Q3:', pagos.quantile(0.75))\n",
    "print('Cantidad de valores válidos:', pagos.notna().sum())"
   ]
  },
  {
   "cell_type": "markdown",
   "id": "4799b95e",
   "metadata": {},
   "source": [
    "## Análisis de Empleo y Seguro Médico\n",
    "- Cantidad de personas con trabajo que ofrecen seguro médico\n",
    "- Cantidad de personas por categoría de trabajo\n",
    "- Estadísticas de horas trabajadas y salario por hora\n",
    "        "
   ]
  },
  {
   "cell_type": "code",
   "execution_count": 21,
   "id": "dc71e832",
   "metadata": {},
   "outputs": [
    {
     "name": "stdout",
     "output_type": "stream",
     "text": [
      "Cantidad de personas con trabajo que ofrecen seguro médico: 0\n",
      "Estadísticas para hours_per_week:\n",
      "min: 1.0 max: 168.0 media: 35.83322260975475 mediana: 40.0 Q1: 30.0 Q3: 40.0\n",
      "Cantidad de valores válidos: 36126\n",
      "Estadísticas para hourly_wage:\n",
      "min: 0.0 max: 115.0 media: 20.648742049992602 mediana: 18.0 Q1: 15.0 Q3: 24.0\n",
      "Cantidad de valores válidos: 13522\n"
     ]
    }
   ],
   "source": [
    "# Empleo: columnas relevantes en jobs\n",
    "trabajos = jobs.copy()\n",
    "# Personas con trabajo que ofrecen seguro médico\n",
    "ofrecen_seguro = trabajos[trabajos['insurance_offered'] == 1]['person_unique_id'].nunique()\n",
    "print('Cantidad de personas con trabajo que ofrecen seguro médico:', ofrecen_seguro)\n",
    "# Estadísticas de horas trabajadas y salario por hora\n",
    "for col in ['hours_per_week', 'hourly_wage']:\n",
    "    vals = pd.to_numeric(trabajos[col], errors='coerce')\n",
    "    print(f'Estadísticas para {col}:')\n",
    "    print('min:', vals.min(), 'max:', vals.max(), 'media:', vals.mean(), 'mediana:', vals.median(), 'Q1:', vals.quantile(0.25), 'Q3:', vals.quantile(0.75))\n",
    "    print('Cantidad de valores válidos:', vals.notna().sum())"
   ]
  }
 ],
 "metadata": {
  "kernelspec": {
   "display_name": "Python 3",
   "language": "python",
   "name": "python3"
  },
  "language_info": {
   "codemirror_mode": {
    "name": "ipython",
    "version": 3
   },
   "file_extension": ".py",
   "mimetype": "text/x-python",
   "name": "python",
   "nbconvert_exporter": "python",
   "pygments_lexer": "ipython3",
   "version": "3.12.2"
  }
 },
 "nbformat": 4,
 "nbformat_minor": 5
}
